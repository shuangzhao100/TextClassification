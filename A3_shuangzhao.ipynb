{
 "cells": [
  {
   "cell_type": "markdown",
   "id": "26129ec0",
   "metadata": {},
   "source": [
    "# Assignment 3\n",
    "## Shuang Zhao"
   ]
  },
  {
   "cell_type": "markdown",
   "id": "95563fc8",
   "metadata": {},
   "source": [
    "## Part 1"
   ]
  },
  {
   "cell_type": "code",
   "execution_count": 1,
   "id": "02b65b3e",
   "metadata": {},
   "outputs": [
    {
     "name": "stdout",
     "output_type": "stream",
     "text": [
      "Python 3.7.7\r\n"
     ]
    }
   ],
   "source": [
    "!python -V"
   ]
  },
  {
   "cell_type": "code",
   "execution_count": 98,
   "id": "af4cfd7b",
   "metadata": {},
   "outputs": [],
   "source": [
    "# import packages\n",
    "# pip install tensorflow\n",
    "# !pip install tensorflow_hub\n",
    "import numpy as np\n",
    "import pandas as pd\n",
    "from numpy.random import seed\n",
    "import tensorflow as tf\n",
    "import re\n",
    "import matplotlib.pyplot as plt\n",
    "from nltk.corpus import stopwords\n",
    "from nltk.tokenize import word_tokenize\n",
    "import tensorflow_hub as hub\n",
    "from sklearn.feature_extraction.text import CountVectorizer\n",
    "from sklearn.svm import LinearSVC\n",
    "from sklearn.svm import SVC\n",
    "from sklearn.pipeline import make_pipeline\n",
    "from sklearn.preprocessing import StandardScaler\n",
    "from sklearn.datasets import make_classification"
   ]
  },
  {
   "cell_type": "code",
   "execution_count": 3,
   "id": "a2314011",
   "metadata": {},
   "outputs": [],
   "source": [
    "# set the random seed\n",
    "seed(1234)\n",
    "tf.random.set_seed(1234) # do not use # tf.set_random_seed(seed = 1234)"
   ]
  },
  {
   "cell_type": "markdown",
   "id": "dda01e6c",
   "metadata": {},
   "source": [
    "### Question 2: \n",
    "Load the data\\\n",
    "How many training and test observations do you have?"
   ]
  },
  {
   "cell_type": "code",
   "execution_count": 4,
   "id": "131a1d06",
   "metadata": {},
   "outputs": [],
   "source": [
    "# load training data\n",
    "train = pd.read_csv('train.tsv',sep='\\t', header=None)\n",
    "test = pd.read_csv('test.tsv',sep='\\t', header=None)"
   ]
  },
  {
   "cell_type": "code",
   "execution_count": 5,
   "id": "492b94bf",
   "metadata": {},
   "outputs": [
    {
     "data": {
      "text/html": [
       "<div>\n",
       "<style scoped>\n",
       "    .dataframe tbody tr th:only-of-type {\n",
       "        vertical-align: middle;\n",
       "    }\n",
       "\n",
       "    .dataframe tbody tr th {\n",
       "        vertical-align: top;\n",
       "    }\n",
       "\n",
       "    .dataframe thead th {\n",
       "        text-align: right;\n",
       "    }\n",
       "</style>\n",
       "<table border=\"1\" class=\"dataframe\">\n",
       "  <thead>\n",
       "    <tr style=\"text-align: right;\">\n",
       "      <th></th>\n",
       "      <th>0</th>\n",
       "      <th>1</th>\n",
       "    </tr>\n",
       "  </thead>\n",
       "  <tbody>\n",
       "    <tr>\n",
       "      <th>0</th>\n",
       "      <td>8.0</td>\n",
       "      <td>dear caps1 caps2 people world use coumputers k...</td>\n",
       "    </tr>\n",
       "  </tbody>\n",
       "</table>\n",
       "</div>"
      ],
      "text/plain": [
       "     0                                                  1\n",
       "0  8.0  dear caps1 caps2 people world use coumputers k..."
      ]
     },
     "execution_count": 5,
     "metadata": {},
     "output_type": "execute_result"
    }
   ],
   "source": [
    "# check the dataframe\n",
    "train.head(1)"
   ]
  },
  {
   "cell_type": "code",
   "execution_count": 6,
   "id": "43f1967f",
   "metadata": {},
   "outputs": [],
   "source": [
    "# name the columns\n",
    "train.columns =['grade','content']\n",
    "test.columns =['grade','content']"
   ]
  },
  {
   "cell_type": "code",
   "execution_count": 7,
   "id": "3eaec07c",
   "metadata": {},
   "outputs": [
    {
     "data": {
      "text/html": [
       "<div>\n",
       "<style scoped>\n",
       "    .dataframe tbody tr th:only-of-type {\n",
       "        vertical-align: middle;\n",
       "    }\n",
       "\n",
       "    .dataframe tbody tr th {\n",
       "        vertical-align: top;\n",
       "    }\n",
       "\n",
       "    .dataframe thead th {\n",
       "        text-align: right;\n",
       "    }\n",
       "</style>\n",
       "<table border=\"1\" class=\"dataframe\">\n",
       "  <thead>\n",
       "    <tr style=\"text-align: right;\">\n",
       "      <th></th>\n",
       "      <th>grade</th>\n",
       "      <th>content</th>\n",
       "    </tr>\n",
       "  </thead>\n",
       "  <tbody>\n",
       "    <tr>\n",
       "      <th>0</th>\n",
       "      <td>8.0</td>\n",
       "      <td>dear caps1 caps2 people world use coumputers k...</td>\n",
       "    </tr>\n",
       "  </tbody>\n",
       "</table>\n",
       "</div>"
      ],
      "text/plain": [
       "   grade                                            content\n",
       "0    8.0  dear caps1 caps2 people world use coumputers k..."
      ]
     },
     "execution_count": 7,
     "metadata": {},
     "output_type": "execute_result"
    }
   ],
   "source": [
    "train.head(1)"
   ]
  },
  {
   "cell_type": "code",
   "execution_count": 8,
   "id": "af0f185b",
   "metadata": {},
   "outputs": [
    {
     "data": {
      "text/plain": [
       "(1515, 2)"
      ]
     },
     "execution_count": 8,
     "metadata": {},
     "output_type": "execute_result"
    }
   ],
   "source": [
    "train.shape"
   ]
  },
  {
   "cell_type": "code",
   "execution_count": 9,
   "id": "83c0f497",
   "metadata": {},
   "outputs": [
    {
     "data": {
      "text/plain": [
       "(268, 2)"
      ]
     },
     "execution_count": 9,
     "metadata": {},
     "output_type": "execute_result"
    }
   ],
   "source": [
    "test.shape"
   ]
  },
  {
   "cell_type": "markdown",
   "id": "30ea6c19",
   "metadata": {},
   "source": [
    "### Answer\n",
    "Training data: 1,515 observations\\\n",
    "Test data: 268 observations"
   ]
  },
  {
   "cell_type": "markdown",
   "id": "4567f8fc",
   "metadata": {},
   "source": [
    "### Question 3: \n",
    "Create a vector of training labels. What does the distribution of labels look like for the training\n",
    "set and the test set? Comment on what you see."
   ]
  },
  {
   "cell_type": "code",
   "execution_count": 10,
   "id": "bda04688",
   "metadata": {},
   "outputs": [],
   "source": [
    "train_label = train.grade"
   ]
  },
  {
   "cell_type": "code",
   "execution_count": 11,
   "id": "c9ae566b",
   "metadata": {},
   "outputs": [
    {
     "data": {
      "text/plain": [
       "Text(0.5, 1.0, 'Distribution of traning labels')"
      ]
     },
     "execution_count": 11,
     "metadata": {},
     "output_type": "execute_result"
    },
    {
     "data": {
      "image/png": "[encoded data removed]",
      "text/plain": [
       "<Figure size 432x288 with 1 Axes>"
      ]
     },
     "metadata": {
      "needs_background": "light"
     },
     "output_type": "display_data"
    }
   ],
   "source": [
    "train_label.plot.hist(bins=8, alpha=0.5)\n",
    "plt.xlabel('Grade', fontsize=16)\n",
    "plt.ylabel('Frequency', fontsize=16)\n",
    "plt.title('Distribution of traning labels', fontsize = 20)"
   ]
  },
  {
   "cell_type": "code",
   "execution_count": 12,
   "id": "48edf15b",
   "metadata": {},
   "outputs": [],
   "source": [
    "test_label = test.grade"
   ]
  },
  {
   "cell_type": "code",
   "execution_count": 13,
   "id": "0d78df3c",
   "metadata": {},
   "outputs": [
    {
     "data": {
      "text/plain": [
       "Text(0.5, 1.0, 'Distribution of test labels')"
      ]
     },
     "execution_count": 13,
     "metadata": {},
     "output_type": "execute_result"
    },
    {
     "data": {
      "image/png": "[encoded data removed]",
      "text/plain": [
       "<Figure size 432x288 with 1 Axes>"
      ]
     },
     "metadata": {
      "needs_background": "light"
     },
     "output_type": "display_data"
    }
   ],
   "source": [
    "test_label.plot.hist(bins=8, alpha=0.5)\n",
    "plt.xlabel('Grade', fontsize=16)\n",
    "plt.ylabel('Frequency', fontsize=16)\n",
    "plt.title('Distribution of test labels', fontsize = 20)"
   ]
  },
  {
   "cell_type": "markdown",
   "id": "feb1995b",
   "metadata": {},
   "source": [
    "**Answer:**\n",
    "\n",
    "The distribution of training labels is left-skewed. The mode of the training labels is 7.\n",
    "\n",
    "The distribution of test labels is also left-skewed with a mode around 8."
   ]
  },
  {
   "cell_type": "markdown",
   "id": "8d59bc42",
   "metadata": {},
   "source": [
    "### Question 4: \n",
    "Convert the training data to lower case. \\\n",
    "Remove punctuation from the training data. \\\n",
    "Also remove stop words from the training data using the NLTK package's English stop word list. \\\n",
    "In addition to NLTK's stopwords, are there words specific to this dataset that may be worthwhile\n",
    "to treat as stop words? What are these words and why would you exclude them? Remove\n",
    "these additional stop words from the training data as well (note: you can also remove this\n",
    "secondary set of stop words after tokenizing. However, keep in mind that this may cause\n",
    "feature alignment issues with your test dataset when you tokenize it.)"
   ]
  },
  {
   "cell_type": "markdown",
   "id": "ca561fee",
   "metadata": {},
   "source": [
    "**Lowercase and remove punctuations**"
   ]
  },
  {
   "cell_type": "code",
   "execution_count": 14,
   "id": "553702b4",
   "metadata": {
    "scrolled": true
   },
   "outputs": [],
   "source": [
    "def text_clean(text):\n",
    "    text = text.lower() # lowercase\n",
    "    text = re.sub(r\"[^\\w\\s]\", '',text) #remove puntucation\n",
    "    text = re.sub(r\"\\s+\", ' ',text) #remove multiple space\n",
    "    return text"
   ]
  },
  {
   "cell_type": "code",
   "execution_count": 15,
   "id": "240043aa",
   "metadata": {},
   "outputs": [],
   "source": [
    "train['clean_text'] = train.content.apply(text_clean)"
   ]
  },
  {
   "cell_type": "markdown",
   "id": "b96c5901",
   "metadata": {},
   "source": [
    "**Remove stop words**"
   ]
  },
  {
   "cell_type": "markdown",
   "id": "77659ddb",
   "metadata": {},
   "source": [
    "In addition to NLTK's stopwords, are there words specific to this dataset that may be worthwhile to treat as stop words? What are these words and why would you exclude them?"
   ]
  },
  {
   "cell_type": "markdown",
   "id": "97374022",
   "metadata": {},
   "source": [
    "**Answer**\n",
    "\n",
    "- The words \"dear\", \"caps1\", \"caps2\"... \"num1\", \"date1\",\"organization1\" are also removed.\n",
    "\n",
    "Reason: \n",
    "- These words do not provide information about the quality of the essays.\n",
    "\n",
    "Approach: \n",
    "- Add \"dear\" to the stop words list and remove it along with other stop words.\n",
    "- For words like \"caps1\", \"num1\", create regular expressions, then remove them from the essay."
   ]
  },
  {
   "cell_type": "code",
   "execution_count": 16,
   "id": "2fb1922b",
   "metadata": {},
   "outputs": [],
   "source": [
    "stop_words = stopwords.words('english')"
   ]
  },
  {
   "cell_type": "code",
   "execution_count": 17,
   "id": "3aeac2f3",
   "metadata": {},
   "outputs": [],
   "source": [
    "# Remove puntuaction from stopwords\n",
    "pattern_punc = \"[^\\w\\s]\"\n",
    "for i in range(len(stop_words)):\n",
    "    stop_words[i] = re.sub(pattern_punc, '', stop_words[i])"
   ]
  },
  {
   "cell_type": "code",
   "execution_count": 18,
   "id": "56dd3685",
   "metadata": {},
   "outputs": [],
   "source": [
    "# Additional words to exclude\n",
    "add = ['dear']\n",
    "stop_words_re = stop_words + add"
   ]
  },
  {
   "cell_type": "code",
   "execution_count": 19,
   "id": "74e37208",
   "metadata": {},
   "outputs": [],
   "source": [
    "pat_caps = \"caps\\d*\"\n",
    "pat_num = \"num\\d+\"\n",
    "pat_date = \"date\\d+\"\n",
    "pat_org = \"organization\\d+\"\n",
    "pat_per = \"percent\\d+\"\n",
    "pat_mulspace = \"\\s+\"\n",
    "\n",
    "def no_stopwords(text):\n",
    "    text_tokens = word_tokenize(text)\n",
    "    text_list_nostop = []\n",
    "    for token in text_tokens:\n",
    "        if token not in stop_words_re:\n",
    "            text_list_nostop.append(token)\n",
    "    text_nostop = ' '.join(text_list_nostop)\n",
    "    text_nostop = re.sub(pat_caps, '',text_nostop)\n",
    "    text_nostop = re.sub(pat_num, '',text_nostop)\n",
    "    text_nostop = re.sub(pat_date, '',text_nostop)\n",
    "    text_nostop = re.sub(pat_org, '',text_nostop)\n",
    "    text_nostop = re.sub(pat_per, '',text_nostop)\n",
    "    text_nostop = re.sub(pat_mulspace, ' ',text_nostop)\n",
    "    return text_nostop"
   ]
  },
  {
   "cell_type": "code",
   "execution_count": 20,
   "id": "bfe6e9c0",
   "metadata": {},
   "outputs": [
    {
     "name": "stdout",
     "output_type": "stream",
     "text": [
      " good bad\n"
     ]
    }
   ],
   "source": [
    "# test\n",
    "print(no_stopwords('i am very caps1 caps10 and the dear num1 date2 percent10 dear good bad'))"
   ]
  },
  {
   "cell_type": "code",
   "execution_count": 21,
   "id": "23d41642",
   "metadata": {},
   "outputs": [],
   "source": [
    "train['clean_text_nostop'] = train.clean_text.apply(no_stopwords)"
   ]
  },
  {
   "cell_type": "code",
   "execution_count": 22,
   "id": "424da66f",
   "metadata": {},
   "outputs": [
    {
     "data": {
      "text/html": [
       "<div>\n",
       "<style scoped>\n",
       "    .dataframe tbody tr th:only-of-type {\n",
       "        vertical-align: middle;\n",
       "    }\n",
       "\n",
       "    .dataframe tbody tr th {\n",
       "        vertical-align: top;\n",
       "    }\n",
       "\n",
       "    .dataframe thead th {\n",
       "        text-align: right;\n",
       "    }\n",
       "</style>\n",
       "<table border=\"1\" class=\"dataframe\">\n",
       "  <thead>\n",
       "    <tr style=\"text-align: right;\">\n",
       "      <th></th>\n",
       "      <th>grade</th>\n",
       "      <th>content</th>\n",
       "      <th>clean_text</th>\n",
       "      <th>clean_text_nostop</th>\n",
       "    </tr>\n",
       "  </thead>\n",
       "  <tbody>\n",
       "    <tr>\n",
       "      <th>0</th>\n",
       "      <td>8.0</td>\n",
       "      <td>dear caps1 caps2 people world use coumputers k...</td>\n",
       "      <td>dear caps1 caps2 people world use coumputers k...</td>\n",
       "      <td>people world use coumputers know computers us...</td>\n",
       "    </tr>\n",
       "    <tr>\n",
       "      <th>1</th>\n",
       "      <td>10.0</td>\n",
       "      <td>dear newspaper believe advances technology man...</td>\n",
       "      <td>dear newspaper believe advances technology man...</td>\n",
       "      <td>newspaper believe advances technology many pos...</td>\n",
       "    </tr>\n",
       "    <tr>\n",
       "      <th>2</th>\n",
       "      <td>6.0</td>\n",
       "      <td>think caps1s use computers help selfs using co...</td>\n",
       "      <td>think caps1s use computers help selfs using co...</td>\n",
       "      <td>think s use computers help selfs using compute...</td>\n",
       "    </tr>\n",
       "    <tr>\n",
       "      <th>3</th>\n",
       "      <td>9.0</td>\n",
       "      <td>want child suceed life computers valuable ever...</td>\n",
       "      <td>want child suceed life computers valuable ever...</td>\n",
       "      <td>want child suceed life computers valuable ever...</td>\n",
       "    </tr>\n",
       "    <tr>\n",
       "      <th>4</th>\n",
       "      <td>8.0</td>\n",
       "      <td>dear local newspaper computers important peopl...</td>\n",
       "      <td>dear local newspaper computers important peopl...</td>\n",
       "      <td>local newspaper computers important people eve...</td>\n",
       "    </tr>\n",
       "  </tbody>\n",
       "</table>\n",
       "</div>"
      ],
      "text/plain": [
       "   grade                                            content  \\\n",
       "0    8.0  dear caps1 caps2 people world use coumputers k...   \n",
       "1   10.0  dear newspaper believe advances technology man...   \n",
       "2    6.0  think caps1s use computers help selfs using co...   \n",
       "3    9.0  want child suceed life computers valuable ever...   \n",
       "4    8.0  dear local newspaper computers important peopl...   \n",
       "\n",
       "                                          clean_text  \\\n",
       "0  dear caps1 caps2 people world use coumputers k...   \n",
       "1  dear newspaper believe advances technology man...   \n",
       "2  think caps1s use computers help selfs using co...   \n",
       "3  want child suceed life computers valuable ever...   \n",
       "4  dear local newspaper computers important peopl...   \n",
       "\n",
       "                                   clean_text_nostop  \n",
       "0   people world use coumputers know computers us...  \n",
       "1  newspaper believe advances technology many pos...  \n",
       "2  think s use computers help selfs using compute...  \n",
       "3  want child suceed life computers valuable ever...  \n",
       "4  local newspaper computers important people eve...  "
      ]
     },
     "execution_count": 22,
     "metadata": {},
     "output_type": "execute_result"
    }
   ],
   "source": [
    "train.head()"
   ]
  },
  {
   "cell_type": "markdown",
   "id": "fcb62bfa",
   "metadata": {},
   "source": [
    "### Question 5\n",
    "- Stem/lemmatize your training data using a stemmer/lemmatizer of your choosing. \n",
    "- Show a before and after using a few observations and comment on what you see."
   ]
  },
  {
   "cell_type": "code",
   "execution_count": 23,
   "id": "05ef88e3",
   "metadata": {},
   "outputs": [],
   "source": [
    "import spacy\n",
    "nlp = spacy.load('en', disable=['parser', 'ner'])"
   ]
  },
  {
   "cell_type": "code",
   "execution_count": 24,
   "id": "d6d090a8",
   "metadata": {},
   "outputs": [],
   "source": [
    "def lemma_text(text):\n",
    "    doc = nlp(text)\n",
    "    lemma_text = \" \".join([token.lemma_ for token in doc])\n",
    "    return lemma_text"
   ]
  },
  {
   "cell_type": "code",
   "execution_count": 25,
   "id": "29fc45c1",
   "metadata": {},
   "outputs": [],
   "source": [
    "train['lemma_text'] = train.clean_text_nostop.apply(lemma_text)"
   ]
  },
  {
   "cell_type": "markdown",
   "id": "37373759",
   "metadata": {},
   "source": [
    "##### Comparison #1"
   ]
  },
  {
   "cell_type": "code",
   "execution_count": 26,
   "id": "092d1ad8",
   "metadata": {},
   "outputs": [
    {
     "data": {
      "text/plain": [
       "' people world use coumputers know computers used like surching internet games work school people thi'"
      ]
     },
     "execution_count": 26,
     "metadata": {},
     "output_type": "execute_result"
    }
   ],
   "source": [
    "train['clean_text_nostop'][0][0:100]"
   ]
  },
  {
   "cell_type": "code",
   "execution_count": 27,
   "id": "21fa99d8",
   "metadata": {},
   "outputs": [
    {
     "data": {
      "text/plain": [
       "' people world use coumputer know computer use like surche internet game work school people think co'"
      ]
     },
     "execution_count": 27,
     "metadata": {},
     "output_type": "execute_result"
    }
   ],
   "source": [
    "train['lemma_text'][0][1:100]"
   ]
  },
  {
   "cell_type": "markdown",
   "id": "1bc14819",
   "metadata": {},
   "source": [
    "\"Computers\" become \"computer\", \"used\" become \"use\""
   ]
  },
  {
   "cell_type": "markdown",
   "id": "47b7f61d",
   "metadata": {},
   "source": [
    "##### Comparison #2"
   ]
  },
  {
   "cell_type": "code",
   "execution_count": 28,
   "id": "119a4b89",
   "metadata": {},
   "outputs": [
    {
     "data": {
      "text/plain": [
       "'computer wonderful thing however effects people bad think way magnetic forces pull people keep hour'"
      ]
     },
     "execution_count": 28,
     "metadata": {},
     "output_type": "execute_result"
    }
   ],
   "source": [
    "train['clean_text_nostop'][10][1:100]"
   ]
  },
  {
   "cell_type": "code",
   "execution_count": 29,
   "id": "a64913fa",
   "metadata": {},
   "outputs": [
    {
     "data": {
      "text/plain": [
       "'  computer wonderful thing however effect people bad think way magnetic force pull people keep hour '"
      ]
     },
     "execution_count": 29,
     "metadata": {},
     "output_type": "execute_result"
    }
   ],
   "source": [
    "train['lemma_text'][10][0:100]"
   ]
  },
  {
   "cell_type": "markdown",
   "id": "d1382819",
   "metadata": {},
   "source": [
    "\"Effects\" become \"effect\""
   ]
  },
  {
   "cell_type": "markdown",
   "id": "51841bbd",
   "metadata": {},
   "source": [
    "**Comment:**\n",
    "\n",
    "- The lemmatization function of Spacy convert words to their base forms.\n",
    "- For example, \"computers\" become \"computer\",\"effects\" become \"effect\", \"heard\" become \"hear\"."
   ]
  },
  {
   "cell_type": "markdown",
   "id": "b22d4fd3",
   "metadata": {},
   "source": [
    "#### Question 6\n",
    "- Tokenize your training data using unigrams (hint: see sklearn's CountVectorizer). \n",
    "- If you set upper and lower limits on word frequency, what are they? \n",
    "- How many unique tokens are in your vocabulary?"
   ]
  },
  {
   "cell_type": "code",
   "execution_count": 30,
   "id": "71f117e8",
   "metadata": {},
   "outputs": [],
   "source": [
    "# Prepare the list to be tokenized\n",
    "text_train = train['lemma_text']"
   ]
  },
  {
   "cell_type": "code",
   "execution_count": 89,
   "id": "4708c535",
   "metadata": {},
   "outputs": [
    {
     "data": {
      "text/plain": [
       "(1515, 1529)"
      ]
     },
     "execution_count": 89,
     "metadata": {},
     "output_type": "execute_result"
    }
   ],
   "source": [
    "# Set upper and lower limits on word frequency\n",
    "vectorizer_limits = CountVectorizer(min_df=10, max_df=0.8) \n",
    "X_limits = vectorizer_limits.fit_transform(text_train)\n",
    "X_limits.shape"
   ]
  },
  {
   "cell_type": "markdown",
   "id": "6c6c7fc4",
   "metadata": {},
   "source": [
    "**When setting upper and lower limits**:\n",
    "\n",
    "Set lower limit to 10, meaning exclude words that appeare less than 10 times.\n",
    "\n",
    "Set upper limit to 0.8, meaning exclude words whose document frequency is larger than 0.8.\n",
    "\n",
    "By doing so, there are 1,529 unigrams left."
   ]
  },
  {
   "cell_type": "code",
   "execution_count": 31,
   "id": "a339e9e5",
   "metadata": {},
   "outputs": [
    {
     "data": {
      "text/plain": [
       "(1515, 11893)"
      ]
     },
     "execution_count": 31,
     "metadata": {},
     "output_type": "execute_result"
    }
   ],
   "source": [
    "# Tokenize by word/unigram, without any upper or lower limits\n",
    "vectorizer = CountVectorizer(ngram_range = (1, 1))\n",
    "X = vectorizer.fit_transform(text_train)\n",
    "X.shape"
   ]
  },
  {
   "cell_type": "markdown",
   "id": "3c1b9c76",
   "metadata": {},
   "source": [
    "There are 11,896 unique tokens in the training data set if I do not set a limit for word frequency."
   ]
  },
  {
   "cell_type": "markdown",
   "id": "83ab6532",
   "metadata": {},
   "source": [
    "#### Question 7. \n",
    "- Process the test data in a manner identical to the training data. Note that you will need tohave the same dimensions for your training and test data. One way in which this can be done is using sklearn's CountVectorizer is to fit on the training data and transform the test data.\n",
    "- Show that the number of features for your training and test data are identical."
   ]
  },
  {
   "cell_type": "code",
   "execution_count": 32,
   "id": "b0497b13",
   "metadata": {},
   "outputs": [],
   "source": [
    "# Clean the test data\n",
    "test['clean_text'] = test.content.apply(text_clean)\n",
    "# Remove stopwords\n",
    "test['clean_text_nostop'] = test.clean_text.apply(no_stopwords)\n",
    "# Lemmatize\n",
    "test['lemma_text'] = test.clean_text_nostop.apply(lemma_text)"
   ]
  },
  {
   "cell_type": "code",
   "execution_count": 33,
   "id": "019265a1",
   "metadata": {},
   "outputs": [],
   "source": [
    "# Prepare the list to be tokenized\n",
    "text_test = test['lemma_text']"
   ]
  },
  {
   "cell_type": "code",
   "execution_count": 34,
   "id": "61afa639",
   "metadata": {},
   "outputs": [
    {
     "data": {
      "text/plain": [
       "(268, 11893)"
      ]
     },
     "execution_count": 34,
     "metadata": {},
     "output_type": "execute_result"
    }
   ],
   "source": [
    "# transform the test data\n",
    "Y = vectorizer.transform(text_test)\n",
    "Y.shape # test data"
   ]
  },
  {
   "cell_type": "code",
   "execution_count": 35,
   "id": "a47104a4",
   "metadata": {},
   "outputs": [
    {
     "data": {
      "text/plain": [
       "(1515, 11893)"
      ]
     },
     "execution_count": 35,
     "metadata": {},
     "output_type": "execute_result"
    }
   ],
   "source": [
    "X.shape # training data"
   ]
  },
  {
   "cell_type": "markdown",
   "id": "3ece92d2",
   "metadata": {},
   "source": [
    "Both the trainign data (X) and the test data (Y) have 11,896 features."
   ]
  },
  {
   "cell_type": "markdown",
   "id": "a488f904",
   "metadata": {},
   "source": [
    "**Create the matrix of word frequency as features**"
   ]
  },
  {
   "cell_type": "code",
   "execution_count": 36,
   "id": "30d64223",
   "metadata": {},
   "outputs": [
    {
     "name": "stderr",
     "output_type": "stream",
     "text": [
      "/Users/zhaoshuang/opt/anaconda3/lib/python3.7/site-packages/sklearn/utils/deprecation.py:87: FutureWarning: Function get_feature_names is deprecated; get_feature_names is deprecated in 1.0 and will be removed in 1.2. Please use get_feature_names_out instead.\n",
      "  warnings.warn(msg, category=FutureWarning)\n"
     ]
    }
   ],
   "source": [
    "df_train_count = pd.DataFrame(X.toarray(), columns=vectorizer.get_feature_names())\n",
    "df_test_count = pd.DataFrame(Y.toarray(), columns=vectorizer.get_feature_names())"
   ]
  },
  {
   "cell_type": "markdown",
   "id": "04189f52",
   "metadata": {},
   "source": [
    "# Part 2"
   ]
  },
  {
   "cell_type": "markdown",
   "id": "ba577380",
   "metadata": {},
   "source": [
    "#### Question 7\n",
    "- In addition to the features you were tasked with generating in Part 1, design/build additional features of your choosing. \n",
    "\n",
    "- Describe the features that you ultimately used in your final models and articulate your reasoning for including the features that you did. \n",
    "\n",
    "    - Some potential ideas for additional features include bi-/trigrams, topic model weights, TF-IDF weights, sentiments, hand-engineered word co-occurrences (not adding any/all of these is completely  ne as well)."
   ]
  },
  {
   "cell_type": "markdown",
   "id": "8e1435ac",
   "metadata": {},
   "source": [
    "**Additional Features: TF-IDF weights**"
   ]
  },
  {
   "cell_type": "code",
   "execution_count": 37,
   "id": "b88782cc",
   "metadata": {},
   "outputs": [],
   "source": [
    "from sklearn.feature_extraction.text import TfidfVectorizer"
   ]
  },
  {
   "cell_type": "code",
   "execution_count": 38,
   "id": "0fcb15ec",
   "metadata": {},
   "outputs": [
    {
     "data": {
      "text/plain": [
       "(1515, 11893)"
      ]
     },
     "execution_count": 38,
     "metadata": {},
     "output_type": "execute_result"
    }
   ],
   "source": [
    "# fit on the training data\n",
    "text_train = train['lemma_text']\n",
    "tf_vectorizer = TfidfVectorizer()\n",
    "X_tf = tf_vectorizer.fit_transform(text_train)\n",
    "X_tf.shape"
   ]
  },
  {
   "cell_type": "code",
   "execution_count": 39,
   "id": "c75fe4a9",
   "metadata": {},
   "outputs": [
    {
     "data": {
      "text/plain": [
       "(268, 11893)"
      ]
     },
     "execution_count": 39,
     "metadata": {},
     "output_type": "execute_result"
    }
   ],
   "source": [
    "# transform on the test data\n",
    "text_test = test['lemma_text']\n",
    "Y_tf = tf_vectorizer.transform(text_test)\n",
    "Y_tf.shape"
   ]
  },
  {
   "cell_type": "markdown",
   "id": "58a21fdb",
   "metadata": {},
   "source": [
    "**TF-IDF matrix for the training data set**"
   ]
  },
  {
   "cell_type": "code",
   "execution_count": 46,
   "id": "cdbcf582",
   "metadata": {},
   "outputs": [],
   "source": [
    "# Create new names for tf-idf features\n",
    "new_columns = []\n",
    "for i in tf_vectorizer.get_feature_names():\n",
    "    new_columns.append('tf_'+i)\n",
    "# Convert to a matrix\n",
    "df_train_tf = pd.DataFrame(X_tf.toarray(), columns=new_columns)"
   ]
  },
  {
   "cell_type": "markdown",
   "id": "4b8365ce",
   "metadata": {},
   "source": [
    "**TF-IDF matrix for the test data set**"
   ]
  },
  {
   "cell_type": "code",
   "execution_count": 47,
   "id": "95bfde41",
   "metadata": {},
   "outputs": [],
   "source": [
    "# Create new names for tf-idf features\n",
    "new_columns = []\n",
    "for i in tf_vectorizer.get_feature_names():\n",
    "    new_columns.append('tf_'+i)\n",
    "# Convert to a matrix\n",
    "df_test_tf = pd.DataFrame(Y_tf.toarray(), columns=new_columns)"
   ]
  },
  {
   "cell_type": "markdown",
   "id": "c4b926c4",
   "metadata": {},
   "source": [
    "**Description of the additional features**"
   ]
  },
  {
   "cell_type": "code",
   "execution_count": 48,
   "id": "79039609",
   "metadata": {},
   "outputs": [
    {
     "data": {
      "text/html": [
       "<div>\n",
       "<style scoped>\n",
       "    .dataframe tbody tr th:only-of-type {\n",
       "        vertical-align: middle;\n",
       "    }\n",
       "\n",
       "    .dataframe tbody tr th {\n",
       "        vertical-align: top;\n",
       "    }\n",
       "\n",
       "    .dataframe thead th {\n",
       "        text-align: right;\n",
       "    }\n",
       "</style>\n",
       "<table border=\"1\" class=\"dataframe\">\n",
       "  <thead>\n",
       "    <tr style=\"text-align: right;\">\n",
       "      <th></th>\n",
       "      <th>tf_aa</th>\n",
       "      <th>tf_aamous</th>\n",
       "      <th>tf_aare</th>\n",
       "      <th>tf_abad</th>\n",
       "      <th>tf_abandon</th>\n",
       "      <th>tf_abat</th>\n",
       "      <th>tf_abd</th>\n",
       "      <th>tf_abduction</th>\n",
       "      <th>tf_abe</th>\n",
       "      <th>tf_abease</th>\n",
       "      <th>...</th>\n",
       "      <th>tf_ìcomputer</th>\n",
       "      <th>tf_ìcyberspaceî</th>\n",
       "      <th>tf_ìgameî</th>\n",
       "      <th>tf_ìhuh</th>\n",
       "      <th>tf_ìin</th>\n",
       "      <th>tf_ìrealî</th>\n",
       "      <th>tf_ìtechî</th>\n",
       "      <th>tf_ìî</th>\n",
       "      <th>tf_ís</th>\n",
       "      <th>tf_ít</th>\n",
       "    </tr>\n",
       "  </thead>\n",
       "  <tbody>\n",
       "    <tr>\n",
       "      <th>count</th>\n",
       "      <td>1515.000000</td>\n",
       "      <td>1515.000000</td>\n",
       "      <td>1515.000000</td>\n",
       "      <td>1515.000000</td>\n",
       "      <td>1515.000000</td>\n",
       "      <td>1515.000000</td>\n",
       "      <td>1515.000000</td>\n",
       "      <td>1515.000000</td>\n",
       "      <td>1515.000000</td>\n",
       "      <td>1515.000000</td>\n",
       "      <td>...</td>\n",
       "      <td>1515.000000</td>\n",
       "      <td>1515.000000</td>\n",
       "      <td>1515.000000</td>\n",
       "      <td>1515.000000</td>\n",
       "      <td>1515.000000</td>\n",
       "      <td>1515.000000</td>\n",
       "      <td>1515.000000</td>\n",
       "      <td>1515.000000</td>\n",
       "      <td>1515.000000</td>\n",
       "      <td>1515.000000</td>\n",
       "    </tr>\n",
       "    <tr>\n",
       "      <th>mean</th>\n",
       "      <td>0.000180</td>\n",
       "      <td>0.000072</td>\n",
       "      <td>0.000148</td>\n",
       "      <td>0.000078</td>\n",
       "      <td>0.000068</td>\n",
       "      <td>0.000097</td>\n",
       "      <td>0.000060</td>\n",
       "      <td>0.000172</td>\n",
       "      <td>0.000089</td>\n",
       "      <td>0.000094</td>\n",
       "      <td>...</td>\n",
       "      <td>0.000059</td>\n",
       "      <td>0.000060</td>\n",
       "      <td>0.000066</td>\n",
       "      <td>0.000064</td>\n",
       "      <td>0.000060</td>\n",
       "      <td>0.000113</td>\n",
       "      <td>0.000070</td>\n",
       "      <td>0.000070</td>\n",
       "      <td>0.000181</td>\n",
       "      <td>0.000057</td>\n",
       "    </tr>\n",
       "    <tr>\n",
       "      <th>std</th>\n",
       "      <td>0.005048</td>\n",
       "      <td>0.002793</td>\n",
       "      <td>0.004096</td>\n",
       "      <td>0.003025</td>\n",
       "      <td>0.002629</td>\n",
       "      <td>0.003795</td>\n",
       "      <td>0.002333</td>\n",
       "      <td>0.004773</td>\n",
       "      <td>0.003458</td>\n",
       "      <td>0.003643</td>\n",
       "      <td>...</td>\n",
       "      <td>0.002305</td>\n",
       "      <td>0.002350</td>\n",
       "      <td>0.002568</td>\n",
       "      <td>0.002476</td>\n",
       "      <td>0.002350</td>\n",
       "      <td>0.004386</td>\n",
       "      <td>0.002728</td>\n",
       "      <td>0.002728</td>\n",
       "      <td>0.004102</td>\n",
       "      <td>0.002206</td>\n",
       "    </tr>\n",
       "    <tr>\n",
       "      <th>min</th>\n",
       "      <td>0.000000</td>\n",
       "      <td>0.000000</td>\n",
       "      <td>0.000000</td>\n",
       "      <td>0.000000</td>\n",
       "      <td>0.000000</td>\n",
       "      <td>0.000000</td>\n",
       "      <td>0.000000</td>\n",
       "      <td>0.000000</td>\n",
       "      <td>0.000000</td>\n",
       "      <td>0.000000</td>\n",
       "      <td>...</td>\n",
       "      <td>0.000000</td>\n",
       "      <td>0.000000</td>\n",
       "      <td>0.000000</td>\n",
       "      <td>0.000000</td>\n",
       "      <td>0.000000</td>\n",
       "      <td>0.000000</td>\n",
       "      <td>0.000000</td>\n",
       "      <td>0.000000</td>\n",
       "      <td>0.000000</td>\n",
       "      <td>0.000000</td>\n",
       "    </tr>\n",
       "    <tr>\n",
       "      <th>25%</th>\n",
       "      <td>0.000000</td>\n",
       "      <td>0.000000</td>\n",
       "      <td>0.000000</td>\n",
       "      <td>0.000000</td>\n",
       "      <td>0.000000</td>\n",
       "      <td>0.000000</td>\n",
       "      <td>0.000000</td>\n",
       "      <td>0.000000</td>\n",
       "      <td>0.000000</td>\n",
       "      <td>0.000000</td>\n",
       "      <td>...</td>\n",
       "      <td>0.000000</td>\n",
       "      <td>0.000000</td>\n",
       "      <td>0.000000</td>\n",
       "      <td>0.000000</td>\n",
       "      <td>0.000000</td>\n",
       "      <td>0.000000</td>\n",
       "      <td>0.000000</td>\n",
       "      <td>0.000000</td>\n",
       "      <td>0.000000</td>\n",
       "      <td>0.000000</td>\n",
       "    </tr>\n",
       "    <tr>\n",
       "      <th>50%</th>\n",
       "      <td>0.000000</td>\n",
       "      <td>0.000000</td>\n",
       "      <td>0.000000</td>\n",
       "      <td>0.000000</td>\n",
       "      <td>0.000000</td>\n",
       "      <td>0.000000</td>\n",
       "      <td>0.000000</td>\n",
       "      <td>0.000000</td>\n",
       "      <td>0.000000</td>\n",
       "      <td>0.000000</td>\n",
       "      <td>...</td>\n",
       "      <td>0.000000</td>\n",
       "      <td>0.000000</td>\n",
       "      <td>0.000000</td>\n",
       "      <td>0.000000</td>\n",
       "      <td>0.000000</td>\n",
       "      <td>0.000000</td>\n",
       "      <td>0.000000</td>\n",
       "      <td>0.000000</td>\n",
       "      <td>0.000000</td>\n",
       "      <td>0.000000</td>\n",
       "    </tr>\n",
       "    <tr>\n",
       "      <th>75%</th>\n",
       "      <td>0.000000</td>\n",
       "      <td>0.000000</td>\n",
       "      <td>0.000000</td>\n",
       "      <td>0.000000</td>\n",
       "      <td>0.000000</td>\n",
       "      <td>0.000000</td>\n",
       "      <td>0.000000</td>\n",
       "      <td>0.000000</td>\n",
       "      <td>0.000000</td>\n",
       "      <td>0.000000</td>\n",
       "      <td>...</td>\n",
       "      <td>0.000000</td>\n",
       "      <td>0.000000</td>\n",
       "      <td>0.000000</td>\n",
       "      <td>0.000000</td>\n",
       "      <td>0.000000</td>\n",
       "      <td>0.000000</td>\n",
       "      <td>0.000000</td>\n",
       "      <td>0.000000</td>\n",
       "      <td>0.000000</td>\n",
       "      <td>0.000000</td>\n",
       "    </tr>\n",
       "    <tr>\n",
       "      <th>max</th>\n",
       "      <td>0.162997</td>\n",
       "      <td>0.108722</td>\n",
       "      <td>0.123379</td>\n",
       "      <td>0.117758</td>\n",
       "      <td>0.102310</td>\n",
       "      <td>0.147703</td>\n",
       "      <td>0.090795</td>\n",
       "      <td>0.146760</td>\n",
       "      <td>0.134601</td>\n",
       "      <td>0.141798</td>\n",
       "      <td>...</td>\n",
       "      <td>0.089709</td>\n",
       "      <td>0.091458</td>\n",
       "      <td>0.099944</td>\n",
       "      <td>0.096392</td>\n",
       "      <td>0.091458</td>\n",
       "      <td>0.170703</td>\n",
       "      <td>0.106172</td>\n",
       "      <td>0.106172</td>\n",
       "      <td>0.108617</td>\n",
       "      <td>0.085863</td>\n",
       "    </tr>\n",
       "  </tbody>\n",
       "</table>\n",
       "<p>8 rows × 11893 columns</p>\n",
       "</div>"
      ],
      "text/plain": [
       "             tf_aa    tf_aamous      tf_aare      tf_abad   tf_abandon  \\\n",
       "count  1515.000000  1515.000000  1515.000000  1515.000000  1515.000000   \n",
       "mean      0.000180     0.000072     0.000148     0.000078     0.000068   \n",
       "std       0.005048     0.002793     0.004096     0.003025     0.002629   \n",
       "min       0.000000     0.000000     0.000000     0.000000     0.000000   \n",
       "25%       0.000000     0.000000     0.000000     0.000000     0.000000   \n",
       "50%       0.000000     0.000000     0.000000     0.000000     0.000000   \n",
       "75%       0.000000     0.000000     0.000000     0.000000     0.000000   \n",
       "max       0.162997     0.108722     0.123379     0.117758     0.102310   \n",
       "\n",
       "           tf_abat       tf_abd  tf_abduction       tf_abe    tf_abease  ...  \\\n",
       "count  1515.000000  1515.000000   1515.000000  1515.000000  1515.000000  ...   \n",
       "mean      0.000097     0.000060      0.000172     0.000089     0.000094  ...   \n",
       "std       0.003795     0.002333      0.004773     0.003458     0.003643  ...   \n",
       "min       0.000000     0.000000      0.000000     0.000000     0.000000  ...   \n",
       "25%       0.000000     0.000000      0.000000     0.000000     0.000000  ...   \n",
       "50%       0.000000     0.000000      0.000000     0.000000     0.000000  ...   \n",
       "75%       0.000000     0.000000      0.000000     0.000000     0.000000  ...   \n",
       "max       0.147703     0.090795      0.146760     0.134601     0.141798  ...   \n",
       "\n",
       "       tf_ìcomputer  tf_ìcyberspaceî    tf_ìgameî      tf_ìhuh       tf_ìin  \\\n",
       "count   1515.000000      1515.000000  1515.000000  1515.000000  1515.000000   \n",
       "mean       0.000059         0.000060     0.000066     0.000064     0.000060   \n",
       "std        0.002305         0.002350     0.002568     0.002476     0.002350   \n",
       "min        0.000000         0.000000     0.000000     0.000000     0.000000   \n",
       "25%        0.000000         0.000000     0.000000     0.000000     0.000000   \n",
       "50%        0.000000         0.000000     0.000000     0.000000     0.000000   \n",
       "75%        0.000000         0.000000     0.000000     0.000000     0.000000   \n",
       "max        0.089709         0.091458     0.099944     0.096392     0.091458   \n",
       "\n",
       "         tf_ìrealî    tf_ìtechî        tf_ìî        tf_ís        tf_ít  \n",
       "count  1515.000000  1515.000000  1515.000000  1515.000000  1515.000000  \n",
       "mean      0.000113     0.000070     0.000070     0.000181     0.000057  \n",
       "std       0.004386     0.002728     0.002728     0.004102     0.002206  \n",
       "min       0.000000     0.000000     0.000000     0.000000     0.000000  \n",
       "25%       0.000000     0.000000     0.000000     0.000000     0.000000  \n",
       "50%       0.000000     0.000000     0.000000     0.000000     0.000000  \n",
       "75%       0.000000     0.000000     0.000000     0.000000     0.000000  \n",
       "max       0.170703     0.106172     0.106172     0.108617     0.085863  \n",
       "\n",
       "[8 rows x 11893 columns]"
      ]
     },
     "execution_count": 48,
     "metadata": {},
     "output_type": "execute_result"
    }
   ],
   "source": [
    "# training data\n",
    "df_train_tf.describe()"
   ]
  },
  {
   "cell_type": "markdown",
   "id": "9c5ff72c",
   "metadata": {},
   "source": [
    "- The additional features are the TF-IDF weights of the tokens. There are 11,893 features, corresponding to the number of unique tokens in the training set.\n",
    "- Due to the sparse nature of TF-IDF matrix, the mean value is close to 0 for all additinal features.\n",
    "\n",
    "- Different from simple counts of tokens, TF-IDF matrix contains information on the importance of tokens. For example, the token \"computer\" appears frequently in essays, but it does not effectively indicate the quality of essays. By using TF-IDF, the importance of frequently used words get reduced, while the importance of less frequently used words increase. This help to differentiate among essays. Therefore, TF-IDF is a good feature to represent textual data.\n"
   ]
  },
  {
   "cell_type": "markdown",
   "id": "47227f69",
   "metadata": {},
   "source": [
    "**Combine word count features and tf-idf features for downstream analysis**"
   ]
  },
  {
   "cell_type": "code",
   "execution_count": 51,
   "id": "fb8057ea",
   "metadata": {},
   "outputs": [
    {
     "data": {
      "text/plain": [
       "(1515, 23786)"
      ]
     },
     "execution_count": 51,
     "metadata": {},
     "output_type": "execute_result"
    }
   ],
   "source": [
    "df_train = df_train_count.join(df_train_tf)\n",
    "df_train.shape"
   ]
  },
  {
   "cell_type": "code",
   "execution_count": 52,
   "id": "f35b7934",
   "metadata": {},
   "outputs": [
    {
     "data": {
      "text/plain": [
       "(268, 23786)"
      ]
     },
     "execution_count": 52,
     "metadata": {},
     "output_type": "execute_result"
    }
   ],
   "source": [
    "df_test = df_test_count.join(df_test_tf)\n",
    "df_test.shape"
   ]
  },
  {
   "cell_type": "markdown",
   "id": "3659474c",
   "metadata": {},
   "source": [
    "#### Question 8\n",
    "- To start, build a regularized linear regression model, Ridge.\n",
    "- What was your regularization coefficient and how well does this model perform? \n",
    "- Are there any score ranges where it performs particularly well/poorly? \n",
    "    - Use graphs/tables where appropriate and contextualize results."
   ]
  },
  {
   "cell_type": "markdown",
   "id": "a15de834",
   "metadata": {},
   "source": [
    "#### Build the Ridge model"
   ]
  },
  {
   "cell_type": "code",
   "execution_count": 126,
   "id": "26f1d298",
   "metadata": {},
   "outputs": [],
   "source": [
    "from sklearn.linear_model import Ridge\n",
    "# Initialize the Ridge model\n",
    "clf = Ridge(alpha= 50)"
   ]
  },
  {
   "cell_type": "code",
   "execution_count": 127,
   "id": "d22ac9ff",
   "metadata": {},
   "outputs": [
    {
     "data": {
      "text/plain": [
       "Ridge(alpha=50)"
      ]
     },
     "execution_count": 127,
     "metadata": {},
     "output_type": "execute_result"
    }
   ],
   "source": [
    "# Fit the training data\n",
    "clf.fit(df_train, train_label)"
   ]
  },
  {
   "cell_type": "markdown",
   "id": "38a78784",
   "metadata": {},
   "source": [
    "#### Show regularization coeffcients"
   ]
  },
  {
   "cell_type": "code",
   "execution_count": 128,
   "id": "7fc35971",
   "metadata": {},
   "outputs": [
    {
     "data": {
      "text/plain": [
       "array([ 0.00120925, -0.01116135, -0.00673617, ..., -0.00047986,\n",
       "        0.0008391 , -0.00069149])"
      ]
     },
     "execution_count": 128,
     "metadata": {},
     "output_type": "execute_result"
    }
   ],
   "source": [
    "clf.coef_"
   ]
  },
  {
   "cell_type": "code",
   "execution_count": 129,
   "id": "b70e035b",
   "metadata": {},
   "outputs": [
    {
     "data": {
      "text/plain": [
       "(23786,)"
      ]
     },
     "execution_count": 129,
     "metadata": {},
     "output_type": "execute_result"
    }
   ],
   "source": [
    "clf.coef_.shape"
   ]
  },
  {
   "cell_type": "markdown",
   "id": "e8ce630e",
   "metadata": {},
   "source": [
    "#### Measuare perfomance"
   ]
  },
  {
   "cell_type": "markdown",
   "id": "0e934099",
   "metadata": {},
   "source": [
    "**1. Training data**"
   ]
  },
  {
   "cell_type": "code",
   "execution_count": 130,
   "id": "647d53e2",
   "metadata": {},
   "outputs": [
    {
     "data": {
      "text/plain": [
       "0.27171053716924837"
      ]
     },
     "execution_count": 130,
     "metadata": {},
     "output_type": "execute_result"
    }
   ],
   "source": [
    "# predict the labels of training data\n",
    "y_pred = clf.predict(df_train)\n",
    "# compute the overall training error\n",
    "np.sum((y_pred - train_label)**2)/len(train_label)"
   ]
  },
  {
   "cell_type": "markdown",
   "id": "a4236a32",
   "metadata": {},
   "source": [
    "The MSE of training data is 0.27."
   ]
  },
  {
   "cell_type": "code",
   "execution_count": 134,
   "id": "8459a62b",
   "metadata": {},
   "outputs": [],
   "source": [
    "# Put into dataframe\n",
    "rslt_df = pd.DataFrame()\n",
    "rslt_df['pred'] = y_pred\n",
    "rslt_df['true'] = train_label\n",
    "rslt_df['se'] = (rslt_df['pred'] - rslt_df['true'])**2\n",
    "# Group by training labels (integers)\n",
    "rslt_df2 = rslt_df.groupby(['true']).agg(\n",
    "    group_mse = ('se','mean'))"
   ]
  },
  {
   "cell_type": "markdown",
   "id": "85f1e96b",
   "metadata": {},
   "source": [
    "**2. Test data**"
   ]
  },
  {
   "cell_type": "code",
   "execution_count": 132,
   "id": "a91ee429",
   "metadata": {
    "scrolled": true
   },
   "outputs": [
    {
     "data": {
      "text/plain": [
       "1.0408512664114502"
      ]
     },
     "execution_count": 132,
     "metadata": {},
     "output_type": "execute_result"
    }
   ],
   "source": [
    "# predict the labels\n",
    "y_test_pred = clf.predict(df_test)\n",
    "# compute the overall test error\n",
    "np.sum((y_test_pred - test_label)**2)/len(test_label)"
   ]
  },
  {
   "cell_type": "markdown",
   "id": "b1d9065b",
   "metadata": {},
   "source": [
    "The MSE of test data is 1.04."
   ]
  },
  {
   "cell_type": "markdown",
   "id": "3d5c4121",
   "metadata": {},
   "source": [
    "**Table of test MSE by true labels**"
   ]
  },
  {
   "cell_type": "code",
   "execution_count": 135,
   "id": "6f02d3df",
   "metadata": {
    "scrolled": false
   },
   "outputs": [],
   "source": [
    "# Put into dataframe\n",
    "rslt_df = pd.DataFrame()\n",
    "rslt_df['pred'] = y_test_pred\n",
    "rslt_df['true'] = test_label\n",
    "rslt_df['se'] = (rslt_df['pred'] - rslt_df['true'])**2\n",
    "# Group by training labels (integers)\n",
    "rslt_df3 = rslt_df.groupby(['true']).agg(\n",
    "    group_mse = ('se','mean'))"
   ]
  },
  {
   "cell_type": "markdown",
   "id": "e4baffc8",
   "metadata": {},
   "source": [
    "**Visualization of MSE of training and test data**"
   ]
  },
  {
   "cell_type": "code",
   "execution_count": 136,
   "id": "1a626fce",
   "metadata": {},
   "outputs": [
    {
     "data": {
      "image/png": "[encoded data removed]",
      "text/plain": [
       "<Figure size 576x288 with 1 Axes>"
      ]
     },
     "metadata": {
      "needs_background": "light"
     },
     "output_type": "display_data"
    }
   ],
   "source": [
    "plt.rcParams[\"figure.figsize\"] = (8,4)\n",
    "plt.plot(rslt_df2.index, rslt_df2['group_mse'], label = 'Training MSE')\n",
    "plt.plot(rslt_df3.index, rslt_df3['group_mse'], label = \"Test MSE\")\n",
    "plt.xlabel('Score', fontsize = 16)\n",
    "plt.ylabel('Mean Square Error',fontsize = 16)\n",
    "plt.title('MSE of Training and Test data',fontsize = 20)\n",
    "plt.legend()\n",
    "plt.show()"
   ]
  },
  {
   "cell_type": "markdown",
   "id": "578710c2",
   "metadata": {},
   "source": [
    "- The model performs well in score range from 6 to 8, and performs poorly in score range from 4 to 6. \n",
    "- This is due to the distribution of training data points. In the training data set, there are less data points in the range of 4 to 6 than the range from 6 to 8."
   ]
  },
  {
   "cell_type": "markdown",
   "id": "4bc55fd7",
   "metadata": {},
   "source": [
    "## Question 9. Next, build any model other than the ones you've already built. \n",
    "- Which model did you use and why? \n",
    "- Did you tune hyperparameters? If so, which ones and how? \n",
    "- Are there any scores where it performs particularly well? Are there any scores where it performs particularly poorly? \n",
    "    - Use graphs/tables where appropriate and contextualize results."
   ]
  },
  {
   "cell_type": "markdown",
   "id": "cfe09f3c",
   "metadata": {},
   "source": [
    "### Build a SVM model"
   ]
  },
  {
   "cell_type": "markdown",
   "id": "b9d737c2",
   "metadata": {},
   "source": [
    "**Reasoning**\n",
    "\n",
    "- SVM model works well with unstructred data, such as texual data in this task.\n",
    "- SVM model works well in classification tasks. In this case, the score of essays can be treated as groups since the scores are all integers.\n",
    "- In this case, there are 23,786 features that result in high dimensional space. And SVM model can work with this type of high dimensional data. "
   ]
  },
  {
   "cell_type": "markdown",
   "id": "e0f9b6d5",
   "metadata": {},
   "source": [
    "##### SVM benchmark model (without tuning hyperparamters)"
   ]
  },
  {
   "cell_type": "code",
   "execution_count": 111,
   "id": "0bfbed8b",
   "metadata": {},
   "outputs": [],
   "source": [
    "clf = make_pipeline(StandardScaler(),LinearSVC(random_state=0, tol=1e-5))"
   ]
  },
  {
   "cell_type": "code",
   "execution_count": 112,
   "id": "b8616683",
   "metadata": {},
   "outputs": [
    {
     "data": {
      "text/plain": [
       "Pipeline(steps=[('standardscaler', StandardScaler()),\n",
       "                ('linearsvc', LinearSVC(random_state=0, tol=1e-05))])"
      ]
     },
     "execution_count": 112,
     "metadata": {},
     "output_type": "execute_result"
    }
   ],
   "source": [
    "# Fit the training data\n",
    "clf.fit(df_train, train_label)"
   ]
  },
  {
   "cell_type": "code",
   "execution_count": 113,
   "id": "c2cf58d3",
   "metadata": {},
   "outputs": [
    {
     "data": {
      "text/plain": [
       "3.2276119402985075"
      ]
     },
     "execution_count": 113,
     "metadata": {},
     "output_type": "execute_result"
    }
   ],
   "source": [
    "# predict the labels\n",
    "y_test_pred = clf.predict(df_test)\n",
    "# compute the overall test error\n",
    "np.sum((y_test_pred - test_label)**2)/len(test_label)"
   ]
  },
  {
   "cell_type": "markdown",
   "id": "3fae5ec4",
   "metadata": {},
   "source": [
    "The average training MSE is 3.23."
   ]
  },
  {
   "cell_type": "markdown",
   "id": "9557a8f0",
   "metadata": {},
   "source": [
    "##### SVM Hyperparameter tuning using GridSearch"
   ]
  },
  {
   "cell_type": "markdown",
   "id": "a28c016a",
   "metadata": {},
   "source": [
    "**Approach**\n",
    "- I used GridSearch to tune the hyperparameters of \"C\", 'kernel' of SVM models.\n",
    "- After running all combinations of the hyperparameters, the function of grid.predict() give the predicted value of the best performing SVM model.\n",
    "- The average MSE for the best performing model is 1.22, smaller than the benchmark SVM model (3.23)."
   ]
  },
  {
   "cell_type": "code",
   "execution_count": 90,
   "id": "15924558",
   "metadata": {},
   "outputs": [],
   "source": [
    "from sklearn.model_selection import GridSearchCV"
   ]
  },
  {
   "cell_type": "code",
   "execution_count": 102,
   "id": "d4840f87",
   "metadata": {},
   "outputs": [],
   "source": [
    "model = SVC()\n",
    "param_tuning_grid = {'C': [0.1, 1, 10, 100],'kernel': ['linear','poly','rbf','sigmoid']}"
   ]
  },
  {
   "cell_type": "code",
   "execution_count": 103,
   "id": "7c9fa494",
   "metadata": {},
   "outputs": [],
   "source": [
    "grid = GridSearchCV(SVC(), param_tuning_grid, refit = True, verbose = 3)"
   ]
  },
  {
   "cell_type": "code",
   "execution_count": 125,
   "id": "98934c33",
   "metadata": {},
   "outputs": [],
   "source": [
    "# Run this cell to test all combinations of hyperparameters.\n",
    "# grid.fit(df_train, train_label)"
   ]
  },
  {
   "cell_type": "code",
   "execution_count": 105,
   "id": "9df2cf76",
   "metadata": {},
   "outputs": [
    {
     "name": "stdout",
     "output_type": "stream",
     "text": [
      "{'C': 1, 'kernel': 'rbf'}\n"
     ]
    }
   ],
   "source": [
    "print(grid.best_params_)"
   ]
  },
  {
   "cell_type": "code",
   "execution_count": 106,
   "id": "d895d08f",
   "metadata": {},
   "outputs": [],
   "source": [
    "# Predict the test labels with the best performing SVM model \n",
    "grid_predictions = grid.predict(df_test)"
   ]
  },
  {
   "cell_type": "code",
   "execution_count": 108,
   "id": "53c540f5",
   "metadata": {},
   "outputs": [
    {
     "data": {
      "text/plain": [
       "1.2201492537313432"
      ]
     },
     "execution_count": 108,
     "metadata": {},
     "output_type": "execute_result"
    }
   ],
   "source": [
    "# compute the overall test error\n",
    "np.sum((grid_predictions - test_label)**2)/len(test_label)"
   ]
  },
  {
   "cell_type": "markdown",
   "id": "7c2b06c5",
   "metadata": {},
   "source": [
    "#### Are there any scores where it performs particularly well? Are there any scores where it performs particularly poorly? "
   ]
  },
  {
   "cell_type": "code",
   "execution_count": 120,
   "id": "424492a2",
   "metadata": {},
   "outputs": [],
   "source": [
    "# Put into dataframe\n",
    "rslt_df = pd.DataFrame()\n",
    "rslt_df['pred'] = grid_predictions\n",
    "rslt_df['true'] = test_label\n",
    "rslt_df['se'] = (rslt_df['pred'] - rslt_df['true'])**2\n",
    "# Group by training labels (integers)\n",
    "rslt_df5 = rslt_df.groupby(['true']).agg(\n",
    "    group_mse = ('se','mean'))"
   ]
  },
  {
   "cell_type": "code",
   "execution_count": 121,
   "id": "271f0ac6",
   "metadata": {},
   "outputs": [
    {
     "data": {
      "text/html": [
       "<div>\n",
       "<style scoped>\n",
       "    .dataframe tbody tr th:only-of-type {\n",
       "        vertical-align: middle;\n",
       "    }\n",
       "\n",
       "    .dataframe tbody tr th {\n",
       "        vertical-align: top;\n",
       "    }\n",
       "\n",
       "    .dataframe thead th {\n",
       "        text-align: right;\n",
       "    }\n",
       "</style>\n",
       "<table border=\"1\" class=\"dataframe\">\n",
       "  <thead>\n",
       "    <tr style=\"text-align: right;\">\n",
       "      <th></th>\n",
       "      <th>group_mse</th>\n",
       "    </tr>\n",
       "    <tr>\n",
       "      <th>true</th>\n",
       "      <th></th>\n",
       "    </tr>\n",
       "  </thead>\n",
       "  <tbody>\n",
       "    <tr>\n",
       "      <th>4.0</th>\n",
       "      <td>8.000000</td>\n",
       "    </tr>\n",
       "    <tr>\n",
       "      <th>5.0</th>\n",
       "      <td>1.000000</td>\n",
       "    </tr>\n",
       "    <tr>\n",
       "      <th>6.0</th>\n",
       "      <td>2.750000</td>\n",
       "    </tr>\n",
       "    <tr>\n",
       "      <th>7.0</th>\n",
       "      <td>1.000000</td>\n",
       "    </tr>\n",
       "    <tr>\n",
       "      <th>8.0</th>\n",
       "      <td>0.339623</td>\n",
       "    </tr>\n",
       "    <tr>\n",
       "      <th>9.0</th>\n",
       "      <td>0.846154</td>\n",
       "    </tr>\n",
       "    <tr>\n",
       "      <th>10.0</th>\n",
       "      <td>1.650000</td>\n",
       "    </tr>\n",
       "    <tr>\n",
       "      <th>11.0</th>\n",
       "      <td>2.578947</td>\n",
       "    </tr>\n",
       "    <tr>\n",
       "      <th>12.0</th>\n",
       "      <td>4.555556</td>\n",
       "    </tr>\n",
       "  </tbody>\n",
       "</table>\n",
       "</div>"
      ],
      "text/plain": [
       "      group_mse\n",
       "true           \n",
       "4.0    8.000000\n",
       "5.0    1.000000\n",
       "6.0    2.750000\n",
       "7.0    1.000000\n",
       "8.0    0.339623\n",
       "9.0    0.846154\n",
       "10.0   1.650000\n",
       "11.0   2.578947\n",
       "12.0   4.555556"
      ]
     },
     "execution_count": 121,
     "metadata": {},
     "output_type": "execute_result"
    }
   ],
   "source": [
    "rslt_df5"
   ]
  },
  {
   "cell_type": "code",
   "execution_count": 154,
   "id": "850aa595",
   "metadata": {},
   "outputs": [
    {
     "data": {
      "image/png": "[encoded data removed]",
      "text/plain": [
       "<Figure size 576x288 with 1 Axes>"
      ]
     },
     "metadata": {
      "needs_background": "light"
     },
     "output_type": "display_data"
    }
   ],
   "source": [
    "# Visualization of the test MSE of benchmark SVM model\n",
    "plt.plot(rslt_df5.index, rslt_df5['group_mse'], label = \"Test data\")\n",
    "plt.xlabel('Score', fontsize = 16)\n",
    "plt.ylabel('Mean Square Error',fontsize = 16)\n",
    "plt.title('MSE of Test data of SVM model',fontsize = 20)\n",
    "plt.legend()\n",
    "plt.show()"
   ]
  },
  {
   "cell_type": "markdown",
   "id": "9eca57ac",
   "metadata": {},
   "source": [
    "**Answer**\n",
    "\n",
    "The SVM model performs poorly in the score range from 4 to 6, and 10 to 12.\n",
    "\n",
    "And it performs best in the score of 8."
   ]
  },
  {
   "cell_type": "markdown",
   "id": "71d83197",
   "metadata": {},
   "source": [
    "## Question 10. Compare the performance of the regressors you built.\n",
    "- Which is the strongest? \n",
    "- Which is the weakest?"
   ]
  },
  {
   "cell_type": "markdown",
   "id": "0c4260ff",
   "metadata": {},
   "source": [
    "**Answer:**\n",
    "\n",
    "- The strongest model is Ridge model, with the smallest test MSE of 1.04.\n",
    "\n",
    "- The weakest model is the benchmark SVM model with no hyperparameter tuning, with the test MSE of 3.22."
   ]
  },
  {
   "cell_type": "markdown",
   "id": "9102b416",
   "metadata": {},
   "source": [
    "# Part 3"
   ]
  },
  {
   "cell_type": "markdown",
   "id": "5dc22aa0",
   "metadata": {},
   "source": [
    "## Question 13\n",
    "\n",
    "State which model you chose and your thought process for choosing it versus the other models. "
   ]
  },
  {
   "cell_type": "markdown",
   "id": "6fd8871a",
   "metadata": {},
   "source": [
    "**Answer:**\n",
    "\n",
    "- I chose the Ridge model for this part.\n",
    "\n",
    "- The reason is that Ridge model has the smallest test MSE, and it can deal with high dimensional features. "
   ]
  },
  {
   "cell_type": "markdown",
   "id": "4ac74c5e",
   "metadata": {},
   "source": [
    "## Question 14\n",
    "\n",
    "You will be using Universal Sentence Encoder to embed the text data and get the dense feature vectors for the essays. First you need to import the model with the following codes:"
   ]
  },
  {
   "cell_type": "code",
   "execution_count": 144,
   "id": "06656771",
   "metadata": {
    "scrolled": true
   },
   "outputs": [],
   "source": [
    "module_url = \"https://tfhub.dev/google/universal-sentence-encoder/4\"\n",
    "model = hub.load(module_url)"
   ]
  },
  {
   "cell_type": "markdown",
   "id": "77649b6b",
   "metadata": {},
   "source": [
    "## Question 15\n",
    "\n",
    "Next, You will embed the data with the imported model. Universal Sentence Encoder takes a\n",
    "list of strings and generates the embeddings of the sentence list. Assuming x train is a list of\n",
    "the strings, here's how you get the embeddings of the strings:"
   ]
  },
  {
   "cell_type": "code",
   "execution_count": 145,
   "id": "286f14cf",
   "metadata": {},
   "outputs": [],
   "source": [
    "# convert training data to a list of strings\n",
    "x_train = train['lemma_text'].tolist()"
   ]
  },
  {
   "cell_type": "code",
   "execution_count": 146,
   "id": "29019cac",
   "metadata": {},
   "outputs": [],
   "source": [
    "# get the embeddings of the training strings\n",
    "emb = model(x_train)"
   ]
  },
  {
   "cell_type": "markdown",
   "id": "52c46d19",
   "metadata": {},
   "source": [
    "## Question 16\n",
    "\n",
    "Next, feed the embeddings to the model you chose from the part 2. \n",
    "\n",
    "How does your model perform? \n",
    "\n",
    "Does it perform better than using TF-IDF features?"
   ]
  },
  {
   "cell_type": "code",
   "execution_count": 147,
   "id": "298b9c35",
   "metadata": {},
   "outputs": [
    {
     "data": {
      "text/plain": [
       "Ridge(alpha=50)"
      ]
     },
     "execution_count": 147,
     "metadata": {},
     "output_type": "execute_result"
    }
   ],
   "source": [
    "# feed to ridge \n",
    "clf = Ridge(alpha= 50)\n",
    "clf.fit(emb, train_label)"
   ]
  },
  {
   "cell_type": "markdown",
   "id": "d2e67158",
   "metadata": {},
   "source": [
    "### Model performance"
   ]
  },
  {
   "cell_type": "markdown",
   "id": "218b8e04",
   "metadata": {},
   "source": [
    "**Training data**"
   ]
  },
  {
   "cell_type": "code",
   "execution_count": 148,
   "id": "b32d2512",
   "metadata": {},
   "outputs": [
    {
     "data": {
      "text/plain": [
       "1.6670270977351778"
      ]
     },
     "execution_count": 148,
     "metadata": {},
     "output_type": "execute_result"
    }
   ],
   "source": [
    "# predict the labels\n",
    "y_pred = clf.predict(emb)\n",
    "# compute the overall training error\n",
    "np.sum((y_pred - train_label)**2)/len(train_label)"
   ]
  },
  {
   "cell_type": "markdown",
   "id": "27486729",
   "metadata": {},
   "source": [
    "**Test data**"
   ]
  },
  {
   "cell_type": "code",
   "execution_count": 149,
   "id": "5c5be95b",
   "metadata": {},
   "outputs": [],
   "source": [
    "x_test = test['lemma_text'].tolist()"
   ]
  },
  {
   "cell_type": "code",
   "execution_count": 150,
   "id": "edaeb6e1",
   "metadata": {},
   "outputs": [],
   "source": [
    "emb_test = model(x_test)"
   ]
  },
  {
   "cell_type": "code",
   "execution_count": 157,
   "id": "3cd72bab",
   "metadata": {},
   "outputs": [],
   "source": [
    "rslt_df = pd.DataFrame()\n",
    "rslt_df['pred'] = y_test_pred\n",
    "rslt_df['true'] = test_label\n",
    "rslt_df['se'] = (rslt_df['pred'] - rslt_df['true'])**2\n",
    "# Group by training labels (integers)\n",
    "rslt_df6 = rslt_df.groupby(['true']).agg(\n",
    "    group_mse = ('se','mean'))"
   ]
  },
  {
   "cell_type": "code",
   "execution_count": 158,
   "id": "ecd0ee38",
   "metadata": {},
   "outputs": [
    {
     "data": {
      "image/png": "[encoded data removed]",
      "text/plain": [
       "<Figure size 576x288 with 1 Axes>"
      ]
     },
     "metadata": {
      "needs_background": "light"
     },
     "output_type": "display_data"
    }
   ],
   "source": [
    "# Visualization of the test MSE of benchmark SVM model\n",
    "plt.plot(rslt_df6.index, rslt_df6['group_mse'], label = \"Test data\")\n",
    "plt.xlabel('Score', fontsize = 16)\n",
    "plt.ylabel('Mean Square Error',fontsize = 16)\n",
    "plt.title('MSE of Test data of Ridge model fed with a deep sentence embedder',fontsize = 20)\n",
    "plt.legend()\n",
    "plt.show()"
   ]
  },
  {
   "cell_type": "markdown",
   "id": "66336dab",
   "metadata": {},
   "source": [
    "The model performs well in the score rang of 8 to 9.\n",
    "\n",
    "But it performs poorly in the score range of 4 to 7 and 10 to 12."
   ]
  },
  {
   "cell_type": "markdown",
   "id": "e17dcbcb",
   "metadata": {},
   "source": [
    "### Compare to TF-IDF features"
   ]
  },
  {
   "cell_type": "code",
   "execution_count": 160,
   "id": "73a055e6",
   "metadata": {},
   "outputs": [
    {
     "data": {
      "text/plain": [
       "1.5637203279026708"
      ]
     },
     "execution_count": 160,
     "metadata": {},
     "output_type": "execute_result"
    }
   ],
   "source": [
    "# predict the labels\n",
    "y_test_pred = clf.predict(emb_test)\n",
    "# compute the overall test error\n",
    "np.sum((y_test_pred - test_label)**2)/len(test_label)"
   ]
  },
  {
   "cell_type": "markdown",
   "id": "7d4b8974",
   "metadata": {},
   "source": [
    "- The Ridge model fed with a deep sentence embedder has the test MSE of 1.56.\n",
    "- The Ridge model fed with TF-IDF features has the test MSE of 1.04.\n",
    "\n",
    "\n",
    "- So, the Ridge model fed with TF-IDF features in part 2 has better performance than this model in part 3.\n"
   ]
  },
  {
   "cell_type": "markdown",
   "id": "dd9aed3a",
   "metadata": {},
   "source": []
  }
 ],
 "metadata": {
  "kernelspec": {
   "display_name": "Python 3 (ipykernel)",
   "language": "python",
   "name": "python3"
  },
  "language_info": {
   "codemirror_mode": {
    "name": "ipython",
    "version": 3
   },
   "file_extension": ".py",
   "mimetype": "text/x-python",
   "name": "python",
   "nbconvert_exporter": "python",
   "pygments_lexer": "ipython3",
   "version": "3.7.7"
  }
 },
 "nbformat": 4,
 "nbformat_minor": 5
}
